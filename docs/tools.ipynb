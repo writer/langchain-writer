{
 "cells": [
  {
   "metadata": {},
   "cell_type": "markdown",
   "source": [
    "# Writer Tools\n",
    "\n",
    "\n",
    "This notebook provides a quick overview for getting started with Writer [tools](/docs/concepts/tools/). For detailed documentation of all Writer features and configurations head to the [Writer docs](https://dev.writer.com/home).\n",
    "\n",
    "## Overview\n",
    "\n",
    "### Integration details\n",
    "\n",
    "| Class                                                                                                                                       | Package          | Local | Serializable | JS support |                                        Package downloads                                         |                                        Package latest                                         |\n",
    "|:--------------------------------------------------------------------------------------------------------------------------------------------|:-----------------| :---: | :---: |:----------:|:------------------------------------------------------------------------------------------------:|:---------------------------------------------------------------------------------------------:|\n",
    "| [GraphTool](https://python.langchain.com/v0.2/api_reference/community/tools/langchain_community.tools.langchain_writer.tool.GraphTool.html) | [langchain-writer](https://api.python.langchain.com/en/latest/community_api_reference.html) |      ❌       |                                       ❌                                       | ❌ | ![PyPI - Downloads](https://img.shields.io/pypi/dm/langchain-writer?style=flat-square&label=%20) | ![PyPI - Version](https://img.shields.io/pypi/v/langchain-writer?style=flat-square&label=%20) |\n",
    "\n",
    "### Features\n",
    "\n",
    "We provide usage of two types of tools during invocation of ChatWriter: __function__ and __graph__.\n",
    "\n",
    "#### Function\n",
    "\n",
    "Most widespread type of tool. The function which allows LLM to call external APIs, fetch data from databases, and generally perform any operations you want to do. Visit our [functions docs](https://dev.writer.com/api-guides/tool-calling#tool-calling) for additional information.\n",
    "\n",
    "#### Graph\n",
    "\n",
    "Writer graph-based retrieval-augmented generation (RAG). By leveraging knowledge graphs, this tool enables developers to create, manage, and use structured data to enhance AI capabilities, particularly in RAG scenarios. Visit our [graph docs](https://dev.writer.com/api-guides/knowledge-graph) for additional information."
   ],
   "id": "a6f91f20"
  },
  {
   "metadata": {},
   "cell_type": "markdown",
   "source": [
    "### Credentials\n",
    "\n",
    "Head to [Writer AI Studio](https://app.writer.com/aistudio/signup?utm_campaign=devrel) to sign and generate an API key. Once you've done this set the WRITER_API_KEY environment variable. It's necessary to create ChatWriter instance:"
   ],
   "id": "40136062a4c267f3"
  },
  {
   "metadata": {},
   "cell_type": "code",
   "source": [
    "import getpass\n",
    "import os\n",
    "\n",
    "if not os.getenv(\"WRITER_API_KEY\"):\n",
    "    os.environ[\"WRITER_API_KEY\"] = getpass.getpass(\"Enter your Writer API key: \")"
   ],
   "id": "80d4e1a791aaa8",
   "outputs": [],
   "execution_count": null
  },
  {
   "cell_type": "markdown",
   "id": "1c97218f-f366-479d-8bf7-fe9f2f6df73f",
   "metadata": {},
   "source": [
    "## Instantiation\n",
    "\n",
    "Here we show how to bind Writer Graph Tool and Function tools to WriterChat:"
   ]
  },
  {
   "metadata": {},
   "cell_type": "markdown",
   "source": [
    "### Graph Tool\n",
    "\n",
    "To bind graph tool firs tof all you have to create and initialize GraphTool instance. The requirement argument - is __ID's of graphs__ you want to use as source of data:"
   ],
   "id": "570e4abffc12774"
  },
  {
   "metadata": {},
   "cell_type": "code",
   "source": [
    "from langchain_writer.tools import GraphTool\n",
    "from langchain_writer.chat_models import ChatWriter\n",
    "\n",
    "chat = ChatWriter()\n",
    "\n",
    "graph_id = getpass.getpass(\"Enter Writer Knowledge Graph ID: \")\n",
    "graph_tool = GraphTool(\n",
    "    graph_ids = [graph_id]\n",
    ")\n"
   ],
   "id": "6faaae25509f0f28",
   "outputs": [],
   "execution_count": null
  },
  {
   "metadata": {},
   "cell_type": "markdown",
   "source": [
    "### Function\n",
    "\n",
    "As usually, you can bind function tool as dict, BaseTool or BaseModel subclass or even callable method by itself:"
   ],
   "id": "50ea16fc3a382cf"
  },
  {
   "metadata": {},
   "cell_type": "code",
   "source": [
    "from pydantic import BaseModel, Field\n",
    "from langchain_core.tools import tool\n",
    "from typing import Optional\n",
    "\n",
    "\n",
    "@tool\n",
    "def get_supercopa_trophies_count(club_name: str) -> Optional[int]:\n",
    "    \"\"\"Returns information about supercopa trophies count.\n",
    "\n",
    "    Args:\n",
    "        club_name: Club you want to investigate info of supercopa trophies about\n",
    "\n",
    "    Returns:\n",
    "        Number of supercopa trophies or None if there is no info about requested club\n",
    "    \"\"\"\n",
    "\n",
    "    if club_name == \"Barcelona\":\n",
    "        return 15\n",
    "    elif club_name == \"Real Madrid\":\n",
    "        return 13\n",
    "    elif club_name == \"Atletico Madrid\":\n",
    "        return 2\n",
    "    else:\n",
    "        return None\n",
    "\n",
    "\n",
    "class GetWeather(BaseModel):\n",
    "    \"\"\"Get the current weather in a given location\"\"\"\n",
    "\n",
    "    location: str = Field(..., description=\"The city and state, e.g. San Francisco, CA\")\n",
    "\n",
    "\n",
    "get_product_info = {\n",
    "    \"type\": \"function\",\n",
    "    \"function\": {\n",
    "        \"name\": \"get_product_info\",\n",
    "        \"description\": \"Get information about a product by its id\",\n",
    "        \"parameters\": {\n",
    "            \"type\": \"object\",\n",
    "            \"properties\": {\n",
    "                \"product_id\": {\n",
    "                    \"type\": \"number\",\n",
    "                    \"description\": \"The unique identifier of the product to retrieve information for\",\n",
    "                }\n",
    "            },\n",
    "            \"required\": [\"product_id\"],\n",
    "        },\n",
    "    },\n",
    "}"
   ],
   "id": "e98d7deedb0e5c6f",
   "outputs": [],
   "execution_count": null
  },
  {
   "metadata": {},
   "cell_type": "markdown",
   "source": "Then you can simply bind all tools to chat instance:",
   "id": "fbee9159d9037747"
  },
  {
   "metadata": {},
   "cell_type": "code",
   "source": "chat.bind_tools([graph_tool, get_supercopa_trophies_count, GetWeather, get_product_info])",
   "id": "a4833f2597a87777",
   "outputs": [],
   "execution_count": null
  },
  {
   "metadata": {},
   "cell_type": "markdown",
   "source": "All tools stored in __tools__ attribute of ChatWriter instance, and tool_choice mode at __tool_choice__ ('auto' by default) attribute:",
   "id": "a300614e244f4aaf"
  },
  {
   "metadata": {},
   "cell_type": "code",
   "source": "chat.tools",
   "id": "ccb61b945a56672b",
   "outputs": [],
   "execution_count": null
  },
  {
   "metadata": {},
   "cell_type": "code",
   "source": "chat.tool_choice",
   "id": "381f0d4b9a8357a4",
   "outputs": [],
   "execution_count": null
  },
  {
   "cell_type": "markdown",
   "id": "74147a1a",
   "metadata": {},
   "source": [
    "## Invocation\n",
    "\n",
    "Model will automatically choose function while invocation (with all modes: stream/nonstream sync/async). In case of __function__ tools you wil receive assistant message with tool call request, and you have to handle it manually. In case of __graph__ tool model will call it remotely automatically and return usage info in ___additional_kwargs___ param under ___graph_data___ key:"
   ]
  },
  {
   "metadata": {},
   "cell_type": "code",
   "source": [
    "from langchain_core.messages import HumanMessage\n",
    "\n",
    "messages = [\n",
    "    HumanMessage(\n",
    "        \"Use knowledge graph tool to compose this answer. Tell me what th first line of documents stored in your KG. Also I want to know: how many SuperCopa trophies have Barcelona won?\"\n",
    "    )\n",
    "]\n",
    "\n",
    "response = chat.invoke(messages)\n",
    "messages.append(response)"
   ],
   "id": "74df06b58b5dc2e9",
   "outputs": [],
   "execution_count": null
  },
  {
   "metadata": {},
   "cell_type": "code",
   "source": "print(response.tool_calls)",
   "id": "e271e0fc677446b2",
   "outputs": [],
   "execution_count": null
  },
  {
   "metadata": {},
   "cell_type": "code",
   "source": "print(response.additional_kwargs[\"graph_data\"])",
   "id": "4b3c6f05096fc9e3",
   "outputs": [],
   "execution_count": null
  },
  {
   "metadata": {},
   "cell_type": "code",
   "source": "print(response.content)",
   "id": "7a36cc5b4a8f697b",
   "outputs": [],
   "execution_count": null
  },
  {
   "metadata": {},
   "cell_type": "markdown",
   "source": "Then you can manually handle tool call request, send to model and receive final response:",
   "id": "aeff6a17ce3176b1"
  },
  {
   "metadata": {},
   "cell_type": "code",
   "source": [
    "for tool_call in response.tool_calls:\n",
    "    selected_tool = {\n",
    "        \"get_supercopa_trophies_count\": get_supercopa_trophies_count,\n",
    "    }[tool_call[\"name\"].lower()]\n",
    "    tool_msg = selected_tool.invoke(tool_call)\n",
    "    messages.append(tool_msg)\n",
    "\n",
    "response = chat.invoke(messages)"
   ],
   "id": "156b58108aa9b367",
   "outputs": [],
   "execution_count": null
  },
  {
   "metadata": {},
   "cell_type": "code",
   "source": "print(response.content)",
   "id": "9ea6e66843ef24f",
   "outputs": [],
   "execution_count": null
  },
  {
   "cell_type": "markdown",
   "id": "4ac8146c",
   "metadata": {},
   "source": [
    "## API reference\n",
    "For detailed documentation of all GraphTool features and configurations head to the [API reference](https://python.langchain.com/api_reference/writer/tools/langchain_writer.tools.GraphTool.html#langchain_writer.tools.GraphTool)"
   ]
  }
 ],
 "metadata": {
  "kernelspec": {
   "display_name": "Python 3 (ipykernel)",
   "language": "python",
   "name": "python3"
  },
  "language_info": {
   "codemirror_mode": {
    "name": "ipython",
    "version": 3
   },
   "file_extension": ".py",
   "mimetype": "text/x-python",
   "name": "python",
   "nbconvert_exporter": "python",
   "pygments_lexer": "ipython3",
   "version": "3.11.9"
  }
 },
 "nbformat": 4,
 "nbformat_minor": 5
}
