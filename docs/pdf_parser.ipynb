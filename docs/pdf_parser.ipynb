{
 "cells": [
  {
   "metadata": {},
   "cell_type": "markdown",
   "source": [
    "# Writer PDF Parser\n",
    "\n",
    "This notebook provides a quick overview for getting started with Writer [PDF parser](/docs/concepts/document_loaders/).\n",
    "\n",
    "You can find information about writer framework, it's tools, latest models and their costs, context windows, and supported input types in the [Writer docs](https://dev.writer.com/home).\n",
    "\n",
    "\n",
    "## Overview\n",
    "\n",
    "### Integration details\n",
    "| Class                                                                                                                                       | Package          | Local | Serializable | JS support |                                        Package downloads                                         |                                        Package latest                                         |\n",
    "|:--------------------------------------------------------------------------------------------------------------------------------------------|:-----------------| :---: | :---: |:----------:|:------------------------------------------------------------------------------------------------:|:---------------------------------------------------------------------------------------------:|\n",
    "| [PDFParser](https://python.langchain.com/v0.2/api_reference/community/tools/langchain_community.tools.langchain_writer.tool.PDFParser.html) | [langchain-writer](https://api.python.langchain.com/en/latest/community_api_reference.html) |      ❌       |                                       ❌                                       | ❌ | ![PyPI - Downloads](https://img.shields.io/pypi/dm/langchain-writer?style=flat-square&label=%20) | ![PyPI - Version](https://img.shields.io/pypi/v/langchain-writer?style=flat-square&label=%20) |\n",
    "\n",
    "### Features\n",
    "\n",
    "We provide usage of Writer [PDF Parser](https://dev.writer.com/api-guides/api-reference/tool-api/pdf-parser#parse-pdf) as a Lang Chain tool"
   ],
   "id": "db23d51760310705"
  },
  {
   "metadata": {},
   "cell_type": "markdown",
   "source": [
    "## Setup\n",
    "\n",
    "The integration lives in the `langchain-writer` package:"
   ],
   "id": "c5f08d23df5dc127"
  },
  {
   "metadata": {},
   "cell_type": "code",
   "source": [
    "from filelock import asyncio\n",
    "%pip install --quiet -U langchain-writer"
   ],
   "id": "a8d653f15b7ee32d",
   "outputs": [],
   "execution_count": null
  },
  {
   "metadata": {},
   "cell_type": "markdown",
   "source": [
    "### Credentials\n",
    "\n",
    "Head to [Writer AI Studio](https://app.writer.com/aistudio/signup?utm_campaign=devrel) to sign up and generate an API key. Once you've done this set the WRITER_API_KEY environment variable. It's necessary to create ChatWriter instance:"
   ],
   "id": "3b9709c26797edf"
  },
  {
   "metadata": {},
   "cell_type": "code",
   "source": [
    "import getpass\n",
    "import os\n",
    "\n",
    "if not os.getenv(\"WRITER_API_KEY\"):\n",
    "    os.environ[\"WRITER_API_KEY\"] = getpass.getpass(\"Enter your Writer API key: \")"
   ],
   "id": "2983e19c9d555e58",
   "outputs": [],
   "execution_count": null
  },
  {
   "metadata": {},
   "cell_type": "markdown",
   "source": "It's also helpful (but not needed) to set up [LangSmith](https://smith.langchain.com/) for best-in-class observability:",
   "id": "92a22c77f03d43dc"
  },
  {
   "metadata": {},
   "cell_type": "code",
   "source": [
    "# os.environ[\"LANGCHAIN_TRACING_V2\"] = \"true\"\n",
    "# os.environ[\"LANGCHAIN_API_KEY\"] = getpass.getpass()"
   ],
   "id": "98d8422ecee77403",
   "outputs": [],
   "execution_count": null
  },
  {
   "metadata": {},
   "cell_type": "markdown",
   "source": [
    "## Instantiation\n",
    "\n",
    "Here we show how to instantiate an instance of the Writer Text Splitter, with"
   ],
   "id": "67ab78950a3da8ba"
  },
  {
   "metadata": {},
   "cell_type": "code",
   "source": [
    "from langchain_writer.pdf_parser import PDFParser\n",
    "\n",
    "parser = PDFParser(format=\"markdown\")"
   ],
   "id": "787b3ba8af32533f",
   "outputs": [],
   "execution_count": null
  },
  {
   "metadata": {},
   "cell_type": "markdown",
   "source": [
    "## Invocation\n",
    "\n",
    "### Invoke directly"
   ],
   "id": "d91c6f752fd31cee"
  },
  {
   "metadata": {},
   "cell_type": "code",
   "source": [
    "from langchain_core.documents.base import Blob\n",
    "\n",
    "file = Blob.from_path(\"data/sample.pdf\")\n",
    "\n",
    "parsed_pages = parser.parse(blob=file)\n",
    "parsed_pages"
   ],
   "id": "d1a24b81a8a96f09",
   "outputs": [],
   "execution_count": null
  },
  {
   "metadata": {},
   "cell_type": "markdown",
   "source": "### Invoke asynchronously\n",
   "id": "f89c048c7d23807a"
  },
  {
   "metadata": {},
   "cell_type": "code",
   "source": [
    "parsed_pages_async = await parser.aparse(blob=file)\n",
    "parsed_pages_async"
   ],
   "id": "e2f7fd52b7188c6c",
   "outputs": [],
   "execution_count": null
  },
  {
   "metadata": {},
   "cell_type": "markdown",
   "source": [
    "## API reference\n",
    "\n",
    "For detailed documentation of all PDFParser features and configurations head to the [API reference](https://python.langchain.com/api_reference/writer/pdf_parser/langchain_writer.pdf_parser.PDFParser.html#langchain_writer.pdf_parser.PDFParser)"
   ],
   "id": "ab25a3bed8437a05"
  }
 ],
 "metadata": {
  "kernelspec": {
   "display_name": "Python 3",
   "language": "python",
   "name": "python3"
  },
  "language_info": {
   "codemirror_mode": {
    "name": "ipython",
    "version": 2
   },
   "file_extension": ".py",
   "mimetype": "text/x-python",
   "name": "python",
   "nbconvert_exporter": "python",
   "pygments_lexer": "ipython2",
   "version": "2.7.6"
  }
 },
 "nbformat": 4,
 "nbformat_minor": 5
}
