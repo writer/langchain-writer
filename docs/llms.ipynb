{
 "cells": [
  {
   "cell_type": "raw",
   "id": "67db2992",
   "metadata": {},
   "source": [
    "---\n",
    "sidebar_label: Writer\n",
    "---"
   ]
  },
  {
   "cell_type": "markdown",
   "id": "9597802c",
   "metadata": {},
   "source": [
    "# WriterLLM\n",
    "\n",
    "- [ ] TODO: Make sure API reference link is correct\n",
    "\n",
    "This will help you get started with Writer completion models (LLMs) using LangChain. For detailed documentation on `WriterLLM` features and configuration options, please refer to the [API reference](https://api.python.langchain.com/en/latest/llms/langchain_writer.llms.WriterLLM.html).\n",
    "\n",
    "## Overview\n",
    "### Integration details\n",
    "\n",
    "- TODO: Fill in table features.\n",
    "- TODO: Remove JS support link if not relevant, otherwise ensure link is correct.\n",
    "- TODO: Make sure API reference links are correct.\n",
    "\n",
    "| Class | Package | Local | Serializable | [JS support](https://js.langchain.com/docs/integrations/llms/writer) | Package downloads | Package latest |\n",
    "| :--- | :--- | :---: | :---: |  :---: | :---: | :---: |\n",
    "| [WriterLLM](https://api.python.langchain.com/en/latest/llms/langchain_writer.llms.WriterLLM.html) | [langchain-writer](https://api.python.langchain.com/en/latest/writer_api_reference.html) | ✅/❌ | beta/❌ | ✅/❌ | ![PyPI - Downloads](https://img.shields.io/pypi/dm/langchain-writer?style=flat-square&label=%20) | ![PyPI - Version](https://img.shields.io/pypi/v/langchain-writer?style=flat-square&label=%20) |\n",
    "\n",
    "## Setup\n",
    "\n",
    "- TODO: Update with relevant info.\n",
    "\n",
    "To access Writer models you'll need to create a/an Writer account, get an API key, and install the `langchain-writer` integration package.\n",
    "\n",
    "### Credentials\n",
    "\n",
    "- TODO: Update with relevant info.\n",
    "\n",
    "Head to (TODO: link) to sign up to Writer and generate an API key. Once you've done this set the WRITER_API_KEY environment variable:"
   ]
  },
  {
   "cell_type": "code",
   "execution_count": null,
   "id": "bc51e756",
   "metadata": {},
   "outputs": [],
   "source": [
    "import getpass\n",
    "import os\n",
    "\n",
    "if not os.getenv(\"WRITER_API_KEY\"):\n",
    "    os.environ[\"WRITER_API_KEY\"] = getpass.getpass(\"Enter your Writer API key: \")"
   ]
  },
  {
   "cell_type": "markdown",
   "id": "4b6e1ca6",
   "metadata": {},
   "source": [
    "If you want to get automated tracing of your model calls you can also set your [LangSmith](https://docs.smith.langchain.com/) API key by uncommenting below:"
   ]
  },
  {
   "cell_type": "code",
   "execution_count": null,
   "id": "196c2b41",
   "metadata": {},
   "outputs": [],
   "source": [
    "# os.environ[\"LANGCHAIN_TRACING_V2\"] = \"true\"\n",
    "# os.environ[\"LANGCHAIN_API_KEY\"] = getpass.getpass(\"Enter your LangSmith API key: \")"
   ]
  },
  {
   "cell_type": "markdown",
   "id": "809c6577",
   "metadata": {},
   "source": [
    "### Installation\n",
    "\n",
    "The LangChain Writer integration lives in the `langchain-writer` package:"
   ]
  },
  {
   "cell_type": "code",
   "execution_count": null,
   "id": "59c710c4",
   "metadata": {},
   "outputs": [],
   "source": [
    "%pip install -qU langchain-writer"
   ]
  },
  {
   "cell_type": "markdown",
   "id": "0a760037",
   "metadata": {},
   "source": [
    "## Instantiation\n",
    "\n",
    "Now we can instantiate our model object and generate chat completions:\n",
    "\n",
    "- TODO: Update model instantiation with relevant params."
   ]
  },
  {
   "cell_type": "code",
   "execution_count": null,
   "id": "a0562a13",
   "metadata": {},
   "outputs": [],
   "source": [
    "from langchain_writer import WriterLLM\n",
    "\n",
    "llm = WriterLLM(\n",
    "    model=\"model-name\",\n",
    "    temperature=0,\n",
    "    max_tokens=None,\n",
    "    timeout=None,\n",
    "    max_retries=2,\n",
    "    # other params...\n",
    ")"
   ]
  },
  {
   "cell_type": "markdown",
   "id": "0ee90032",
   "metadata": {},
   "source": [
    "## Invocation\n",
    "\n",
    "- [ ] TODO: Run cells so output can be seen."
   ]
  },
  {
   "cell_type": "code",
   "execution_count": 4,
   "id": "035dea0f",
   "metadata": {
    "tags": []
   },
   "outputs": [],
   "source": [
    "input_text = \"Writer is an AI company that \"\n",
    "\n",
    "completion = llm.invoke(input_text)\n",
    "completion"
   ]
  },
  {
   "cell_type": "markdown",
   "id": "add38532",
   "metadata": {},
   "source": [
    "## Chaining\n",
    "\n",
    "We can [chain](/docs/how_to/sequence/) our completion model with a prompt template like so:\n",
    "\n",
    "- TODO: Run cells so output can be seen."
   ]
  },
  {
   "cell_type": "code",
   "execution_count": null,
   "id": "078e9db2",
   "metadata": {},
   "outputs": [],
   "source": [
    "from langchain_core.prompts import PromptTemplate\n",
    "\n",
    "prompt = PromptTemplate(\n",
    "    \"How to say {input} in {output_language}:\\n\"\n",
    ")\n",
    "\n",
    "chain = prompt | llm\n",
    "chain.invoke(\n",
    "    {\n",
    "        \"output_language\": \"German\",\n",
    "        \"input\": \"I love programming.\",\n",
    "    }\n",
    ")"
   ]
  },
  {
   "cell_type": "markdown",
   "id": "e99eef30",
   "metadata": {},
   "source": [
    "## TODO: Any functionality specific to this model provider\n",
    "\n",
    "E.g. creating/using finetuned models via this provider. Delete if not relevant"
   ]
  },
  {
   "cell_type": "markdown",
   "id": "e9bdfcef",
   "metadata": {},
   "source": [
    "## API reference\n",
    "\n",
    "For detailed documentation of all `WriterLLM` features and configurations head to the API reference: https://api.python.langchain.com/en/latest/llms/langchain_writer.llms.WriterLLM.html"
   ]
  }
 ],
 "metadata": {
  "kernelspec": {
   "display_name": "Python 3.11.1 64-bit",
   "language": "python",
   "name": "python3"
  },
  "language_info": {
   "codemirror_mode": {
    "name": "ipython",
    "version": 3
   },
   "file_extension": ".py",
   "mimetype": "text/x-python",
   "name": "python",
   "nbconvert_exporter": "python",
   "pygments_lexer": "ipython3",
   "version": "3.9.7"
  },
  "vscode": {
   "interpreter": {
    "hash": "e971737741ff4ec9aff7dc6155a1060a59a8a6d52c757dbbe66bf8ee389494b1"
   }
  }
 },
 "nbformat": 4,
 "nbformat_minor": 5
}
